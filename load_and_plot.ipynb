{
  "nbformat": 4,
  "nbformat_minor": 0,
  "metadata": {
    "colab": {
      "provenance": []
    },
    "kernelspec": {
      "name": "python3",
      "display_name": "Python 3"
    },
    "language_info": {
      "name": "python"
    }
  },
  "cells": [
    {
      "cell_type": "code",
      "execution_count": null,
      "metadata": {
        "id": "htyHpXRdFmzz"
      },
      "outputs": [],
      "source": [
        "import matplotlib.pyplot as plt\n",
        "import matplotlib.gridspec as gridspec\n",
        "import numpy as np\n",
        "\n",
        "dir_file = \"/examples/signal_2009_009_M12_D17_CH_SENIN_HHN.npz\"\n",
        "data_npz = np.load(dir_file, allow_pickle=True)\n",
        "data = {key: data_npz[key] for key in data_npz}\n",
        "\n",
        "fig = plt.figure(figsize=(8, 6))\n",
        "gs = gridspec.GridSpec(3, 1, height_ratios=[1, 1, 1])  # Three rows, one column\n",
        "\n",
        "# Create the subplots\n",
        "ax1 = fig.add_subplot(gs[0])\n",
        "ax2 = fig.add_subplot(gs[1], sharex=ax1)\n",
        "ax3 = fig.add_subplot(gs[2], sharex=ax1)\n",
        "\n",
        "# Data for each plot\n",
        "waveforms = [\"earthquake_waveform_Z\", \"earthquake_waveform_N\", \"earthquake_waveform_E\"]\n",
        "axes = [ax1, ax2, ax3]\n",
        "\n",
        "# Loop over axes to plot data and add common settings\n",
        "for ax, waveform in zip(axes, waveforms):\n",
        "    ax.plot(data[waveform], color=\"k\")\n",
        "    ax.set_xlim(0, 18000)\n",
        "    ax.set_ylabel(\"Amplitude [m/s]\")\n",
        "    ax.axvline(x=6000, color='tab:red', linestyle='--', label=\"Earthquake signal start\")\n",
        "    ax.legend()\n",
        "\n",
        "# Set x-label for the last axis\n",
        "ax3.set_xlabel(\"Time [samples]\")\n",
        "\n",
        "ttl_str = \"Magnitude \" + str(data[\"magnitude\"]) + \" recorded in \" + str(np.round(data[\"distance\"],1))\n",
        "ttl_str += \" [km] at station \" + str(data[\"code\"][0]) + \".\" +str(data[\"code\"][1]) + \".\" +str(data[\"code\"][2][:2])\n",
        "ax1.set_title(ttl_str)\n",
        "# Display the plot\n",
        "plt.tight_layout()\n",
        "plt.show()"
      ]
    }
  ]
}